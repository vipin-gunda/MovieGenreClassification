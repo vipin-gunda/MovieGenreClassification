{
 "cells": [
  {
   "cell_type": "code",
   "execution_count": 1,
   "metadata": {},
   "outputs": [],
   "source": [
    "import pandas as pd\n",
    "import numpy as np\n",
    "import matplotlib.pyplot as plt\n",
    "import seaborn as sns\n",
    "import os\n",
    "import ast\n",
    "import json\n",
    "\n",
    "from sklearn.preprocessing import MultiLabelBinarizer\n",
    "from sklearn.model_selection import train_test_split\n",
    "from sklearn.feature_extraction.text import TfidfVectorizer\n",
    "from sklearn.model_selection import GridSearchCV\n",
    "from sklearn.neural_network import MLPClassifier\n",
    "from sklearn.metrics import classification_report, accuracy_score"
   ]
  },
  {
   "cell_type": "code",
   "execution_count": 2,
   "metadata": {},
   "outputs": [
    {
     "name": "stdout",
     "output_type": "stream",
     "text": [
      "<class 'pandas.core.frame.DataFrame'>\n",
      "Int64Index: 44435 entries, 0 to 45465\n",
      "Data columns (total 26 columns):\n",
      " #   Column                 Non-Null Count  Dtype         \n",
      "---  ------                 --------------  -----         \n",
      " 0   adult                  44435 non-null  object        \n",
      " 1   belongs_to_collection  4429 non-null   object        \n",
      " 2   budget                 44435 non-null  float64       \n",
      " 3   genres                 44435 non-null  object        \n",
      " 4   homepage               7749 non-null   object        \n",
      " 5   id                     44435 non-null  object        \n",
      " 6   imdb_id                44423 non-null  object        \n",
      " 7   original_language      44425 non-null  object        \n",
      " 8   original_title         44435 non-null  object        \n",
      " 9   overview               44435 non-null  object        \n",
      " 10  popularity             44435 non-null  object        \n",
      " 11  poster_path            44128 non-null  object        \n",
      " 12  production_companies   44435 non-null  object        \n",
      " 13  production_countries   44435 non-null  object        \n",
      " 14  release_date           44435 non-null  datetime64[ns]\n",
      " 15  revenue                44435 non-null  float64       \n",
      " 16  runtime                44435 non-null  float64       \n",
      " 17  spoken_languages       44435 non-null  object        \n",
      " 18  status                 44371 non-null  object        \n",
      " 19  tagline                20390 non-null  object        \n",
      " 20  title                  44435 non-null  object        \n",
      " 21  video                  44435 non-null  object        \n",
      " 22  vote_average           44435 non-null  float64       \n",
      " 23  vote_count             44435 non-null  float64       \n",
      " 24  year                   44435 non-null  Int64         \n",
      " 25  genre_list             44435 non-null  object        \n",
      "dtypes: Int64(1), datetime64[ns](1), float64(5), object(19)\n",
      "memory usage: 9.2+ MB\n"
     ]
    }
   ],
   "source": [
    "data_path = 'data/movies'\n",
    "metadata = pd.read_csv(os.path.join(data_path, 'movies_metadata.csv'), low_memory=False)\n",
    "\n",
    "def convert_metadata(metadata):\n",
    "    metadata['release_date'] = pd.to_datetime(metadata['release_date'], errors='coerce')\n",
    "    metadata['budget'] = pd.to_numeric(metadata['budget'], errors='coerce')\n",
    "    metadata['revenue'] = pd.to_numeric(metadata['revenue'], errors='coerce')\n",
    "    metadata['runtime'] = pd.to_numeric(metadata['runtime'], errors='coerce')\n",
    "    return metadata\n",
    "\n",
    "metadata = convert_metadata(metadata)\n",
    "\n",
    "metadata = metadata[pd.notnull(metadata['title'])]\n",
    "metadata = metadata[pd.notnull(metadata['budget'])]\n",
    "metadata = metadata[pd.notnull(metadata['revenue'])]\n",
    "metadata = metadata[pd.notnull(metadata['runtime'])]\n",
    "metadata = metadata[pd.notnull(metadata['release_date'])]\n",
    "metadata = metadata[pd.notnull(metadata['overview'])]\n",
    "\n",
    "metadata['year'] = pd.to_datetime(metadata['release_date'], errors='coerce').dt.year.astype('Int64')\n",
    "metadata['genre_list'] = metadata['genres'].apply(lambda x: [genre['name'] for genre in ast.literal_eval(x)])\n",
    "metadata.info()"
   ]
  },
  {
   "cell_type": "code",
   "execution_count": 3,
   "metadata": {},
   "outputs": [
    {
     "data": {
      "text/plain": [
       "array(['Action', 'Adventure', 'Animation', 'Comedy', 'Crime',\n",
       "       'Documentary', 'Drama', 'Family', 'Fantasy', 'Foreign', 'History',\n",
       "       'Horror', 'Music', 'Mystery', 'Romance', 'Science Fiction',\n",
       "       'TV Movie', 'Thriller', 'War', 'Western'], dtype=object)"
      ]
     },
     "execution_count": 3,
     "metadata": {},
     "output_type": "execute_result"
    }
   ],
   "source": [
    "mlb = MultiLabelBinarizer()\n",
    "labels = mlb.fit_transform(metadata['genre_list'])\n",
    "label_classes = mlb.classes_\n",
    "\n",
    "label_classes\n",
    "label_list = []\n",
    "for elem in label_classes:\n",
    "  label_list.append(elem)\n",
    "\n",
    "final_genres = MultiLabelBinarizer(classes = label_list) \n",
    "y = final_genres.fit_transform(metadata['genre_list'])\n",
    "final_genres.classes_"
   ]
  },
  {
   "cell_type": "code",
   "execution_count": 4,
   "metadata": {},
   "outputs": [
    {
     "name": "stdout",
     "output_type": "stream",
     "text": [
      "(35548,) (8887,) (35548, 20) (8887, 20)\n"
     ]
    }
   ],
   "source": [
    "X = metadata['title']\n",
    "X_train, X_val, y_train, y_val = train_test_split( X, y, test_size = 0.2, random_state = 42)\n",
    "\n",
    "print(X_train.shape, X_val.shape, y_train.shape, y_val.shape)\n",
    "\n",
    "vectorizer = TfidfVectorizer(stop_words = 'english', lowercase = True)\n",
    "\n",
    "X_train_vector = vectorizer.fit_transform(X_train)\n",
    "X_val_vector = vectorizer.transform(X_val)"
   ]
  },
  {
   "cell_type": "code",
   "execution_count": 5,
   "metadata": {},
   "outputs": [],
   "source": [
    "def pipeline(model, params = None, cv = 5):\n",
    "    if params == None:\n",
    "        model.fit(X_train_vector, y_train)\n",
    "        return(model, model.predict(X_train_vector), model.predict(X_val_vector))\n",
    "    else:\n",
    "        model_cv = GridSearchCV(estimator = model, param_grid = params, cv = cv)\n",
    "        model_cv.fit(X_train_vector, y_train)\n",
    "        model = model_cv.best_estimator_\n",
    "            \n",
    "        return(model, model.predict(X_train_vector), model.predict(X_val_vector), model_cv)"
   ]
  },
  {
   "cell_type": "code",
   "execution_count": 6,
   "metadata": {},
   "outputs": [
    {
     "name": "stdout",
     "output_type": "stream",
     "text": [
      "Iteration 1, loss = 9.06150628\n",
      "Iteration 2, loss = 5.63021836\n",
      "Iteration 3, loss = 5.34322531\n",
      "Iteration 4, loss = 4.94950418\n",
      "Iteration 5, loss = 4.53579073\n",
      "Iteration 6, loss = 4.15169232\n",
      "Iteration 7, loss = 3.81145575\n",
      "Iteration 8, loss = 3.52026980\n",
      "Iteration 9, loss = 3.27258575\n",
      "Iteration 10, loss = 3.06534208\n",
      "Iteration 11, loss = 2.89206786\n",
      "Iteration 12, loss = 2.74724185\n",
      "Iteration 13, loss = 2.62744377\n",
      "Iteration 14, loss = 2.52745679\n",
      "Iteration 15, loss = 2.44395561\n",
      "Iteration 16, loss = 2.37400573\n",
      "Iteration 17, loss = 2.31284237\n",
      "Iteration 18, loss = 2.26158341\n",
      "Iteration 19, loss = 2.21733617\n",
      "Iteration 20, loss = 2.17713059\n",
      "Iteration 21, loss = 2.14155586\n",
      "Iteration 22, loss = 2.11026962\n",
      "Iteration 23, loss = 2.08105329\n",
      "Iteration 24, loss = 2.05522239\n",
      "Iteration 25, loss = 2.03142418\n",
      "Iteration 26, loss = 2.00871542\n",
      "Iteration 27, loss = 1.98846738\n",
      "Iteration 28, loss = 1.96844686\n",
      "Iteration 29, loss = 1.94986969\n",
      "Iteration 30, loss = 1.93355806\n",
      "Iteration 31, loss = 1.91699227\n",
      "Iteration 32, loss = 1.90074656\n",
      "Iteration 33, loss = 1.88641472\n",
      "Iteration 34, loss = 1.87190727\n",
      "Iteration 35, loss = 1.85803639\n",
      "Iteration 36, loss = 1.84458330\n",
      "Iteration 37, loss = 1.83094896\n",
      "Iteration 38, loss = 1.81811757\n",
      "Iteration 39, loss = 1.80564745\n",
      "Iteration 40, loss = 1.79413427\n",
      "Iteration 41, loss = 1.78136000\n",
      "Iteration 42, loss = 1.77037450\n",
      "Iteration 43, loss = 1.75989627\n",
      "Iteration 44, loss = 1.74819555\n",
      "Iteration 45, loss = 1.73720085\n",
      "Iteration 46, loss = 1.72638167\n",
      "Iteration 47, loss = 1.71617084\n",
      "Iteration 48, loss = 1.70565319\n",
      "Iteration 49, loss = 1.69550091\n",
      "Iteration 50, loss = 1.68529439\n"
     ]
    },
    {
     "name": "stderr",
     "output_type": "stream",
     "text": [
      "/opt/anaconda3/lib/python3.9/site-packages/sklearn/neural_network/_multilayer_perceptron.py:692: ConvergenceWarning: Stochastic Optimizer: Maximum iterations (50) reached and the optimization hasn't converged yet.\n",
      "  warnings.warn(\n"
     ]
    }
   ],
   "source": [
    "mlp = MLPClassifier(verbose = True, max_iter = 50)\n",
    "\n",
    "model, train_preds, val_preds = pipeline(mlp)"
   ]
  },
  {
   "cell_type": "code",
   "execution_count": 7,
   "metadata": {},
   "outputs": [
    {
     "name": "stdout",
     "output_type": "stream",
     "text": [
      "Classification Report - Training:\n",
      "                  precision    recall  f1-score   support\n",
      "\n",
      "         Action       0.87      0.77      0.82      5260\n",
      "      Adventure       0.91      0.73      0.81      2781\n",
      "      Animation       0.96      0.82      0.89      1530\n",
      "         Comedy       0.90      0.81      0.85     10254\n",
      "          Crime       0.88      0.66      0.75      3432\n",
      "    Documentary       0.96      0.78      0.86      3087\n",
      "          Drama       0.87      0.91      0.89     15994\n",
      "         Family       0.93      0.79      0.85      2216\n",
      "        Fantasy       0.94      0.69      0.80      1850\n",
      "        Foreign       0.93      0.69      0.79      1311\n",
      "        History       0.93      0.77      0.84      1090\n",
      "         Horror       0.90      0.79      0.84      3741\n",
      "          Music       0.96      0.74      0.83      1274\n",
      "        Mystery       0.93      0.60      0.73      1975\n",
      "        Romance       0.91      0.69      0.79      5287\n",
      "Science Fiction       0.94      0.75      0.83      2412\n",
      "       TV Movie       0.93      0.69      0.79       617\n",
      "       Thriller       0.87      0.68      0.77      6079\n",
      "            War       0.91      0.70      0.79      1033\n",
      "        Western       0.93      0.81      0.87       836\n",
      "\n",
      "      micro avg       0.90      0.78      0.83     72059\n",
      "      macro avg       0.92      0.74      0.82     72059\n",
      "   weighted avg       0.90      0.78      0.83     72059\n",
      "    samples avg       0.81      0.76      0.77     72059\n",
      "\n",
      "\n",
      "Classification Report - Validation:\n",
      "                  precision    recall  f1-score   support\n",
      "\n",
      "         Action       0.39      0.30      0.34      1301\n",
      "      Adventure       0.37      0.24      0.29       687\n",
      "      Animation       0.47      0.26      0.33       387\n",
      "         Comedy       0.49      0.38      0.43      2551\n",
      "          Crime       0.29      0.15      0.20       836\n",
      "    Documentary       0.25      0.13      0.17       790\n",
      "          Drama       0.53      0.62      0.57      4020\n",
      "         Family       0.41      0.27      0.33       514\n",
      "        Fantasy       0.34      0.20      0.25       440\n",
      "        Foreign       0.04      0.02      0.03       287\n",
      "        History       0.17      0.09      0.12       288\n",
      "         Horror       0.51      0.39      0.44       916\n",
      "          Music       0.20      0.11      0.14       314\n",
      "        Mystery       0.23      0.11      0.15       473\n",
      "        Romance       0.30      0.18      0.23      1384\n",
      "Science Fiction       0.47      0.27      0.34       609\n",
      "       TV Movie       0.11      0.08      0.10       133\n",
      "       Thriller       0.35      0.23      0.28      1502\n",
      "            War       0.19      0.10      0.13       277\n",
      "        Western       0.41      0.27      0.32       199\n",
      "\n",
      "      micro avg       0.43      0.33      0.37     17908\n",
      "      macro avg       0.33      0.22      0.26     17908\n",
      "   weighted avg       0.40      0.33      0.35     17908\n",
      "    samples avg       0.41      0.34      0.34     17908\n",
      "\n",
      "\n",
      "Accuracy - Training: 0.6482502531788005\n",
      "Accuracy - Validation: 0.10903567007989198\n"
     ]
    },
    {
     "name": "stderr",
     "output_type": "stream",
     "text": [
      "/opt/anaconda3/lib/python3.9/site-packages/sklearn/metrics/_classification.py:1318: UndefinedMetricWarning: Precision and F-score are ill-defined and being set to 0.0 in samples with no predicted labels. Use `zero_division` parameter to control this behavior.\n",
      "  _warn_prf(average, modifier, msg_start, len(result))\n",
      "/opt/anaconda3/lib/python3.9/site-packages/sklearn/metrics/_classification.py:1318: UndefinedMetricWarning: Recall and F-score are ill-defined and being set to 0.0 in samples with no true labels. Use `zero_division` parameter to control this behavior.\n",
      "  _warn_prf(average, modifier, msg_start, len(result))\n",
      "/opt/anaconda3/lib/python3.9/site-packages/sklearn/metrics/_classification.py:1318: UndefinedMetricWarning: Precision and F-score are ill-defined and being set to 0.0 in samples with no predicted labels. Use `zero_division` parameter to control this behavior.\n",
      "  _warn_prf(average, modifier, msg_start, len(result))\n",
      "/opt/anaconda3/lib/python3.9/site-packages/sklearn/metrics/_classification.py:1318: UndefinedMetricWarning: Recall and F-score are ill-defined and being set to 0.0 in samples with no true labels. Use `zero_division` parameter to control this behavior.\n",
      "  _warn_prf(average, modifier, msg_start, len(result))\n"
     ]
    }
   ],
   "source": [
    "target_names = label_list\n",
    "training_report = classification_report(y_true=y_train, y_pred=train_preds, target_names=target_names)\n",
    "validation_report = classification_report(y_true=y_val, y_pred=val_preds, target_names=target_names)\n",
    "train_accuracy = accuracy_score(y_true=y_train, y_pred=train_preds)\n",
    "validation_accuracy = accuracy_score(y_true=y_val, y_pred=val_preds)\n",
    "print(\"Classification Report - Training:\\n\", training_report)\n",
    "print(\"\\nClassification Report - Validation:\\n\", validation_report)\n",
    "print(\"\\nAccuracy - Training:\", train_accuracy)\n",
    "print(\"Accuracy - Validation:\", validation_accuracy)"
   ]
  }
 ],
 "metadata": {
  "kernelspec": {
   "display_name": "base",
   "language": "python",
   "name": "python3"
  },
  "language_info": {
   "codemirror_mode": {
    "name": "ipython",
    "version": 3
   },
   "file_extension": ".py",
   "mimetype": "text/x-python",
   "name": "python",
   "nbconvert_exporter": "python",
   "pygments_lexer": "ipython3",
   "version": "3.9.12"
  },
  "orig_nbformat": 4
 },
 "nbformat": 4,
 "nbformat_minor": 2
}
