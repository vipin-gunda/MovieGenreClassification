{
 "cells": [
  {
   "cell_type": "code",
   "execution_count": 1,
   "metadata": {},
   "outputs": [],
   "source": [
    "#imports\n",
    "import pandas as pd\n",
    "import numpy as np\n",
    "import matplotlib.pyplot as plt\n",
    "import seaborn as sns\n",
    "import os\n",
    "import ast\n",
    "import json"
   ]
  },
  {
   "cell_type": "code",
   "execution_count": 2,
   "metadata": {},
   "outputs": [],
   "source": [
    "data_path = 'data/movies'\n",
    "\n",
    "metadata = pd.read_csv(os.path.join(data_path, 'movies_metadata.csv'), low_memory=False)\n",
    "\n",
    "def convert_metadata(metadata):\n",
    "    metadata['release_date'] = pd.to_datetime(metadata['release_date'], errors='coerce')\n",
    "    metadata['budget'] = pd.to_numeric(metadata['budget'], errors='coerce')\n",
    "    metadata['revenue'] = pd.to_numeric(metadata['revenue'], errors='coerce')\n",
    "    metadata['runtime'] = pd.to_numeric(metadata['runtime'], errors='coerce')\n",
    "    return metadata\n",
    "\n",
    "metadata = convert_metadata(metadata)"
   ]
  },
  {
   "cell_type": "code",
   "execution_count": 3,
   "metadata": {},
   "outputs": [],
   "source": [
    "metadata = metadata[pd.notnull(metadata['title'])]\n",
    "metadata = metadata[pd.notnull(metadata['budget'])]\n",
    "metadata = metadata[pd.notnull(metadata['revenue'])]\n",
    "metadata = metadata[pd.notnull(metadata['runtime'])]\n",
    "metadata = metadata[pd.notnull(metadata['release_date'])]"
   ]
  },
  {
   "cell_type": "code",
   "execution_count": 4,
   "metadata": {},
   "outputs": [],
   "source": [
    "metadata['year'] = pd.to_datetime(metadata['release_date'], errors='coerce').dt.year.astype('Int64')\n",
    "metadata['genre_list'] = metadata['genres'].apply(lambda x: [genre['name'] for genre in ast.literal_eval(x)])\n",
    "#metadata.info()"
   ]
  },
  {
   "cell_type": "code",
   "execution_count": 6,
   "metadata": {},
   "outputs": [
    {
     "ename": "",
     "evalue": "",
     "output_type": "error",
     "traceback": [
      "\u001b[1;31mCannot execute code, session has been disposed. Please try restarting the Kernel."
     ]
    },
    {
     "ename": "",
     "evalue": "",
     "output_type": "error",
     "traceback": [
      "\u001b[1;31mThe Kernel crashed while executing code in the the current cell or a previous cell. Please review the code in the cell(s) to identify a possible cause of the failure. Click <a href='https://aka.ms/vscodeJupyterKernelCrash'>here</a> for more info. View Jupyter <a href='command:jupyter.viewOutput'>log</a> for further details."
     ]
    }
   ],
   "source": []
  }
 ],
 "metadata": {
  "kernelspec": {
   "display_name": "base",
   "language": "python",
   "name": "python3"
  },
  "language_info": {
   "codemirror_mode": {
    "name": "ipython",
    "version": 3
   },
   "file_extension": ".py",
   "mimetype": "text/x-python",
   "name": "python",
   "nbconvert_exporter": "python",
   "pygments_lexer": "ipython3",
   "version": "3.9.12"
  },
  "orig_nbformat": 4
 },
 "nbformat": 4,
 "nbformat_minor": 2
}
