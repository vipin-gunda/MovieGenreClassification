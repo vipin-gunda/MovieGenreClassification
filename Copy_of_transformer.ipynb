{
  "cells": [
    {
      "cell_type": "code",
      "execution_count": 3,
      "metadata": {
        "id": "AtpDjf4sHOTp"
      },
      "outputs": [],
      "source": [
        "import pandas as pd\n",
        "import numpy as np\n",
        "import matplotlib.pyplot as plt\n",
        "import seaborn as sns\n",
        "import os\n",
        "import ast\n",
        "import json\n",
        "import torch\n",
        "\n",
        "from transformers import DistilBertTokenizer, DistilBertForSequenceClassification, Trainer, TrainingArguments, AlbertForSequenceClassification, AlbertTokenizer\n",
        "from sklearn.preprocessing import MultiLabelBinarizer"
      ]
    },
    {
      "cell_type": "code",
      "execution_count": 4,
      "metadata": {
        "id": "mWZM19X4HOTp",
        "colab": {
          "base_uri": "https://localhost:8080/"
        },
        "outputId": "7413f39c-81d3-434e-8223-ea6bdf707af4"
      },
      "outputs": [
        {
          "output_type": "stream",
          "name": "stdout",
          "text": [
            "<class 'pandas.core.frame.DataFrame'>\n",
            "Int64Index: 45130 entries, 0 to 45465\n",
            "Data columns (total 26 columns):\n",
            " #   Column                 Non-Null Count  Dtype         \n",
            "---  ------                 --------------  -----         \n",
            " 0   adult                  45130 non-null  object        \n",
            " 1   belongs_to_collection  4481 non-null   object        \n",
            " 2   budget                 45130 non-null  float64       \n",
            " 3   genres                 45130 non-null  object        \n",
            " 4   homepage               7766 non-null   object        \n",
            " 5   id                     45130 non-null  object        \n",
            " 6   imdb_id                45118 non-null  object        \n",
            " 7   original_language      45119 non-null  object        \n",
            " 8   original_title         45130 non-null  object        \n",
            " 9   overview               44435 non-null  object        \n",
            " 10  popularity             45130 non-null  object        \n",
            " 11  poster_path            44808 non-null  object        \n",
            " 12  production_companies   45130 non-null  object        \n",
            " 13  production_countries   45130 non-null  object        \n",
            " 14  release_date           45130 non-null  datetime64[ns]\n",
            " 15  revenue                45130 non-null  float64       \n",
            " 16  runtime                45130 non-null  float64       \n",
            " 17  spoken_languages       45130 non-null  object        \n",
            " 18  status                 45054 non-null  object        \n",
            " 19  tagline                20398 non-null  object        \n",
            " 20  title                  45130 non-null  object        \n",
            " 21  video                  45130 non-null  object        \n",
            " 22  vote_average           45130 non-null  float64       \n",
            " 23  vote_count             45130 non-null  float64       \n",
            " 24  year                   45130 non-null  Int64         \n",
            " 25  genre_list             45130 non-null  object        \n",
            "dtypes: Int64(1), datetime64[ns](1), float64(5), object(19)\n",
            "memory usage: 9.3+ MB\n"
          ]
        }
      ],
      "source": [
        "data_path = 'data/movies'\n",
        "metadata = pd.read_csv(os.path.join(data_path, 'movies_metadata.csv'), low_memory=False)\n",
        "\n",
        "def convert_metadata(metadata):\n",
        "    metadata['release_date'] = pd.to_datetime(metadata['release_date'], errors='coerce')\n",
        "    metadata['budget'] = pd.to_numeric(metadata['budget'], errors='coerce')\n",
        "    metadata['revenue'] = pd.to_numeric(metadata['revenue'], errors='coerce')\n",
        "    metadata['runtime'] = pd.to_numeric(metadata['runtime'], errors='coerce')\n",
        "    return metadata\n",
        "\n",
        "metadata = convert_metadata(metadata)\n",
        "\n",
        "metadata = metadata[pd.notnull(metadata['title'])]\n",
        "metadata = metadata[pd.notnull(metadata['budget'])]\n",
        "metadata = metadata[pd.notnull(metadata['revenue'])]\n",
        "metadata = metadata[pd.notnull(metadata['runtime'])]\n",
        "metadata = metadata[pd.notnull(metadata['release_date'])]\n",
        "\n",
        "metadata['year'] = pd.to_datetime(metadata['release_date'], errors='coerce').dt.year.astype('Int64')\n",
        "metadata['genre_list'] = metadata['genres'].apply(lambda x: [genre['name'] for genre in ast.literal_eval(x)])\n",
        "metadata.info()\n"
      ]
    },
    {
      "cell_type": "code",
      "source": [
        "!pip install transformers torch accelerate -U\n"
      ],
      "metadata": {
        "colab": {
          "base_uri": "https://localhost:8080/"
        },
        "id": "5A_TsstEQzpw",
        "outputId": "24c2eb2b-c9d0-453d-8c6b-175050dc27cd"
      },
      "execution_count": 5,
      "outputs": [
        {
          "output_type": "stream",
          "name": "stdout",
          "text": [
            "Requirement already satisfied: transformers in /usr/local/lib/python3.10/dist-packages (4.39.1)\n",
            "Requirement already satisfied: torch in /usr/local/lib/python3.10/dist-packages (2.2.1+cu121)\n",
            "Requirement already satisfied: accelerate in /usr/local/lib/python3.10/dist-packages (0.28.0)\n",
            "Requirement already satisfied: filelock in /usr/local/lib/python3.10/dist-packages (from transformers) (3.13.1)\n",
            "Requirement already satisfied: huggingface-hub<1.0,>=0.19.3 in /usr/local/lib/python3.10/dist-packages (from transformers) (0.20.3)\n",
            "Requirement already satisfied: numpy>=1.17 in /usr/local/lib/python3.10/dist-packages (from transformers) (1.25.2)\n",
            "Requirement already satisfied: packaging>=20.0 in /usr/local/lib/python3.10/dist-packages (from transformers) (24.0)\n",
            "Requirement already satisfied: pyyaml>=5.1 in /usr/local/lib/python3.10/dist-packages (from transformers) (6.0.1)\n",
            "Requirement already satisfied: regex!=2019.12.17 in /usr/local/lib/python3.10/dist-packages (from transformers) (2023.12.25)\n",
            "Requirement already satisfied: requests in /usr/local/lib/python3.10/dist-packages (from transformers) (2.31.0)\n",
            "Requirement already satisfied: tokenizers<0.19,>=0.14 in /usr/local/lib/python3.10/dist-packages (from transformers) (0.15.2)\n",
            "Requirement already satisfied: safetensors>=0.4.1 in /usr/local/lib/python3.10/dist-packages (from transformers) (0.4.2)\n",
            "Requirement already satisfied: tqdm>=4.27 in /usr/local/lib/python3.10/dist-packages (from transformers) (4.66.2)\n",
            "Requirement already satisfied: typing-extensions>=4.8.0 in /usr/local/lib/python3.10/dist-packages (from torch) (4.10.0)\n",
            "Requirement already satisfied: sympy in /usr/local/lib/python3.10/dist-packages (from torch) (1.12)\n",
            "Requirement already satisfied: networkx in /usr/local/lib/python3.10/dist-packages (from torch) (3.2.1)\n",
            "Requirement already satisfied: jinja2 in /usr/local/lib/python3.10/dist-packages (from torch) (3.1.3)\n",
            "Requirement already satisfied: fsspec in /usr/local/lib/python3.10/dist-packages (from torch) (2023.6.0)\n",
            "Requirement already satisfied: nvidia-cuda-nvrtc-cu12==12.1.105 in /usr/local/lib/python3.10/dist-packages (from torch) (12.1.105)\n",
            "Requirement already satisfied: nvidia-cuda-runtime-cu12==12.1.105 in /usr/local/lib/python3.10/dist-packages (from torch) (12.1.105)\n",
            "Requirement already satisfied: nvidia-cuda-cupti-cu12==12.1.105 in /usr/local/lib/python3.10/dist-packages (from torch) (12.1.105)\n",
            "Requirement already satisfied: nvidia-cudnn-cu12==8.9.2.26 in /usr/local/lib/python3.10/dist-packages (from torch) (8.9.2.26)\n",
            "Requirement already satisfied: nvidia-cublas-cu12==12.1.3.1 in /usr/local/lib/python3.10/dist-packages (from torch) (12.1.3.1)\n",
            "Requirement already satisfied: nvidia-cufft-cu12==11.0.2.54 in /usr/local/lib/python3.10/dist-packages (from torch) (11.0.2.54)\n",
            "Requirement already satisfied: nvidia-curand-cu12==10.3.2.106 in /usr/local/lib/python3.10/dist-packages (from torch) (10.3.2.106)\n",
            "Requirement already satisfied: nvidia-cusolver-cu12==11.4.5.107 in /usr/local/lib/python3.10/dist-packages (from torch) (11.4.5.107)\n",
            "Requirement already satisfied: nvidia-cusparse-cu12==12.1.0.106 in /usr/local/lib/python3.10/dist-packages (from torch) (12.1.0.106)\n",
            "Requirement already satisfied: nvidia-nccl-cu12==2.19.3 in /usr/local/lib/python3.10/dist-packages (from torch) (2.19.3)\n",
            "Requirement already satisfied: nvidia-nvtx-cu12==12.1.105 in /usr/local/lib/python3.10/dist-packages (from torch) (12.1.105)\n",
            "Requirement already satisfied: triton==2.2.0 in /usr/local/lib/python3.10/dist-packages (from torch) (2.2.0)\n",
            "Requirement already satisfied: nvidia-nvjitlink-cu12 in /usr/local/lib/python3.10/dist-packages (from nvidia-cusolver-cu12==11.4.5.107->torch) (12.4.99)\n",
            "Requirement already satisfied: psutil in /usr/local/lib/python3.10/dist-packages (from accelerate) (5.9.5)\n",
            "Requirement already satisfied: MarkupSafe>=2.0 in /usr/local/lib/python3.10/dist-packages (from jinja2->torch) (2.1.5)\n",
            "Requirement already satisfied: charset-normalizer<4,>=2 in /usr/local/lib/python3.10/dist-packages (from requests->transformers) (3.3.2)\n",
            "Requirement already satisfied: idna<4,>=2.5 in /usr/local/lib/python3.10/dist-packages (from requests->transformers) (3.6)\n",
            "Requirement already satisfied: urllib3<3,>=1.21.1 in /usr/local/lib/python3.10/dist-packages (from requests->transformers) (2.0.7)\n",
            "Requirement already satisfied: certifi>=2017.4.17 in /usr/local/lib/python3.10/dist-packages (from requests->transformers) (2024.2.2)\n",
            "Requirement already satisfied: mpmath>=0.19 in /usr/local/lib/python3.10/dist-packages (from sympy->torch) (1.3.0)\n"
          ]
        }
      ]
    },
    {
      "cell_type": "code",
      "source": [
        "import torch\n",
        "from transformers import AlbertForSequenceClassification, AlbertTokenizer, Trainer, TrainingArguments\n",
        "from sklearn.preprocessing import MultiLabelBinarizer\n",
        "from sklearn.model_selection import train_test_split\n",
        "\n",
        "# Convert genre_list to multi-label format\n",
        "mlb = MultiLabelBinarizer()\n",
        "y = mlb.fit_transform(metadata['genre_list'])\n",
        "\n",
        "# Load the ALBERT tokenizer and model\n",
        "tokenizer = AlbertTokenizer.from_pretrained('albert-base-v2')\n",
        "model = AlbertForSequenceClassification.from_pretrained('albert-base-v2', num_labels=len(mlb.classes_))\n",
        "\n",
        "# Tokenize the movie titles\n",
        "tokenized_inputs = tokenizer(list(metadata['title']), truncation=True, padding=True, return_tensors=\"pt\")\n",
        "labels = torch.tensor(y, dtype=torch.float32)  # Convert labels to torch tensor\n",
        "\n",
        "# Split the data into training and evaluation sets\n",
        "train_inputs, eval_inputs, train_labels, eval_labels = train_test_split(tokenized_inputs['input_ids'], labels, test_size=0.2, random_state=42)\n",
        "\n",
        "# Define a custom dataset class for training and evaluation\n",
        "class MovieGenreDataset(torch.utils.data.Dataset):\n",
        "    def __init__(self, encodings, labels):\n",
        "        self.encodings = encodings\n",
        "        self.labels = labels\n",
        "\n",
        "    def __getitem__(self, idx):\n",
        "        item = {\n",
        "            'input_ids': self.encodings[idx],\n",
        "            'attention_mask': self.encodings[idx].bool(),\n",
        "            'labels': self.labels[idx]\n",
        "        }\n",
        "        return item\n",
        "\n",
        "    def __len__(self):\n",
        "        return len(self.labels)\n",
        "\n",
        "# Create instances of the custom dataset for training and evaluation\n",
        "train_dataset = MovieGenreDataset(train_inputs, train_labels)\n",
        "eval_dataset = MovieGenreDataset(eval_inputs, eval_labels)\n",
        "\n",
        "# Define the Trainer for fine-tuning\n",
        "training_args = TrainingArguments(\n",
        "    per_device_train_batch_size=64,\n",
        "    evaluation_strategy=\"epoch\",\n",
        "    logging_dir=\"./logs\",\n",
        "    output_dir=\"./results\",\n",
        "    num_train_epochs=2,\n",
        ")\n",
        "\n",
        "trainer = Trainer(\n",
        "    model=model,\n",
        "    args=training_args,\n",
        "    train_dataset=train_dataset,\n",
        "    eval_dataset=eval_dataset,\n",
        ")\n",
        "\n",
        "# Fine-tune the model\n",
        "trainer.train()\n",
        "\n",
        "# Save the fine-tuned model\n",
        "model.save_pretrained(\"./fine_tuned_albert_model\")\n"
      ],
      "metadata": {
        "colab": {
          "base_uri": "https://localhost:8080/",
          "height": 192
        },
        "id": "wGbHTM_iOPMQ",
        "outputId": "6690a771-39b5-4480-d259-95c5a7f36eb3"
      },
      "execution_count": 9,
      "outputs": [
        {
          "output_type": "stream",
          "name": "stderr",
          "text": [
            "Some weights of AlbertForSequenceClassification were not initialized from the model checkpoint at albert-base-v2 and are newly initialized: ['classifier.bias', 'classifier.weight']\n",
            "You should probably TRAIN this model on a down-stream task to be able to use it for predictions and inference.\n"
          ]
        },
        {
          "output_type": "display_data",
          "data": {
            "text/plain": [
              "<IPython.core.display.HTML object>"
            ],
            "text/html": [
              "\n",
              "    <div>\n",
              "      \n",
              "      <progress value='1130' max='1130' style='width:300px; height:20px; vertical-align: middle;'></progress>\n",
              "      [1130/1130 06:28, Epoch 2/2]\n",
              "    </div>\n",
              "    <table border=\"1\" class=\"dataframe\">\n",
              "  <thead>\n",
              " <tr style=\"text-align: left;\">\n",
              "      <th>Epoch</th>\n",
              "      <th>Training Loss</th>\n",
              "      <th>Validation Loss</th>\n",
              "    </tr>\n",
              "  </thead>\n",
              "  <tbody>\n",
              "    <tr>\n",
              "      <td>1</td>\n",
              "      <td>0.287600</td>\n",
              "      <td>0.267689</td>\n",
              "    </tr>\n",
              "    <tr>\n",
              "      <td>2</td>\n",
              "      <td>0.266300</td>\n",
              "      <td>0.259359</td>\n",
              "    </tr>\n",
              "  </tbody>\n",
              "</table><p>"
            ]
          },
          "metadata": {}
        }
      ]
    },
    {
      "cell_type": "code",
      "source": [
        "test_title = \"Toy Story\"\n",
        "inputs = tokenizer(test_title, return_tensors=\"pt\", truncation=True, padding=True)\n",
        "inputs.to(torch.device('cuda'))  # Move inputs to CUDA device\n",
        "\n",
        "model.to(torch.device('cuda'))  # Move model to CUDA device\n",
        "outputs = model(**inputs)\n",
        "predicted_scores = torch.sigmoid(outputs.logits).detach().cpu().numpy()  # Move predictions back to CPU\n",
        "\n",
        "# Convert scores to genre labels\n",
        "threshold = 0.0  # Adjust threshold as needed\n",
        "predicted_indices = predicted_scores[0] > threshold\n",
        "predicted_genres = mlb.classes_[predicted_indices]\n",
        "predicted_probabilities = predicted_scores[0][predicted_indices]\n",
        "\n",
        "# Create a list of tuples (genre, probability) and sort by probability in descending order\n",
        "genre_prob_pairs = [(genre, probability) for genre, probability in zip(predicted_genres, predicted_probabilities)]\n",
        "sorted_genre_prob_pairs = sorted(genre_prob_pairs, key=lambda x: x[1], reverse=True)\n",
        "\n",
        "# Print the sorted genres and probabilities\n",
        "for genre, probability in sorted_genre_prob_pairs:\n",
        "    print(f\"Genre: {genre}, Probability: {probability:.4f}\")"
      ],
      "metadata": {
        "colab": {
          "base_uri": "https://localhost:8080/"
        },
        "id": "clFlxo64ST3w",
        "outputId": "f3a0e108-c239-4924-c8e6-a8690d20f3cd"
      },
      "execution_count": 20,
      "outputs": [
        {
          "output_type": "stream",
          "name": "stdout",
          "text": [
            "Genre: Drama, Probability: 0.5135\n",
            "Genre: Comedy, Probability: 0.4347\n",
            "Genre: Romance, Probability: 0.2279\n",
            "Genre: Documentary, Probability: 0.0789\n",
            "Genre: Thriller, Probability: 0.0706\n",
            "Genre: Crime, Probability: 0.0596\n",
            "Genre: Action, Probability: 0.0591\n",
            "Genre: Family, Probability: 0.0570\n",
            "Genre: Music, Probability: 0.0436\n",
            "Genre: Horror, Probability: 0.0364\n",
            "Genre: Foreign, Probability: 0.0364\n",
            "Genre: Adventure, Probability: 0.0349\n",
            "Genre: Fantasy, Probability: 0.0307\n",
            "Genre: Mystery, Probability: 0.0300\n",
            "Genre: History, Probability: 0.0262\n",
            "Genre: Animation, Probability: 0.0223\n",
            "Genre: Science Fiction, Probability: 0.0220\n",
            "Genre: War, Probability: 0.0205\n",
            "Genre: Western, Probability: 0.0163\n",
            "Genre: TV Movie, Probability: 0.0160\n"
          ]
        }
      ]
    }
  ],
  "metadata": {
    "kernelspec": {
      "display_name": "Python 3",
      "name": "python3"
    },
    "language_info": {
      "codemirror_mode": {
        "name": "ipython",
        "version": 3
      },
      "file_extension": ".py",
      "mimetype": "text/x-python",
      "name": "python",
      "nbconvert_exporter": "python",
      "pygments_lexer": "ipython3",
      "version": "3.9.12"
    },
    "orig_nbformat": 4,
    "colab": {
      "provenance": [],
      "toc_visible": true,
      "gpuType": "T4"
    },
    "accelerator": "GPU"
  },
  "nbformat": 4,
  "nbformat_minor": 0
}