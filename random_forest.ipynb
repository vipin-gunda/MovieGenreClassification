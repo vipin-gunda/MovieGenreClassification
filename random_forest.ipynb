{
 "cells": [
  {
   "cell_type": "code",
   "execution_count": 1,
   "metadata": {},
   "outputs": [],
   "source": [
    "import pandas as pd\n",
    "import numpy as np\n",
    "import matplotlib.pyplot as plt\n",
    "import seaborn as sns\n",
    "import os\n",
    "import ast\n",
    "import json\n",
    "\n",
    "from sklearn.preprocessing import MultiLabelBinarizer\n",
    "from sklearn.model_selection import train_test_split\n",
    "from sklearn.feature_extraction.text import TfidfVectorizer\n",
    "from sklearn.model_selection import GridSearchCV\n",
    "from sklearn.ensemble import RandomForestClassifier\n",
    "from sklearn.metrics import classification_report, accuracy_score"
   ]
  },
  {
   "cell_type": "code",
   "execution_count": 2,
   "metadata": {},
   "outputs": [
    {
     "name": "stdout",
     "output_type": "stream",
     "text": [
      "<class 'pandas.core.frame.DataFrame'>\n",
      "Int64Index: 44435 entries, 0 to 45465\n",
      "Data columns (total 26 columns):\n",
      " #   Column                 Non-Null Count  Dtype         \n",
      "---  ------                 --------------  -----         \n",
      " 0   adult                  44435 non-null  object        \n",
      " 1   belongs_to_collection  4429 non-null   object        \n",
      " 2   budget                 44435 non-null  float64       \n",
      " 3   genres                 44435 non-null  object        \n",
      " 4   homepage               7749 non-null   object        \n",
      " 5   id                     44435 non-null  object        \n",
      " 6   imdb_id                44423 non-null  object        \n",
      " 7   original_language      44425 non-null  object        \n",
      " 8   original_title         44435 non-null  object        \n",
      " 9   overview               44435 non-null  object        \n",
      " 10  popularity             44435 non-null  object        \n",
      " 11  poster_path            44128 non-null  object        \n",
      " 12  production_companies   44435 non-null  object        \n",
      " 13  production_countries   44435 non-null  object        \n",
      " 14  release_date           44435 non-null  datetime64[ns]\n",
      " 15  revenue                44435 non-null  float64       \n",
      " 16  runtime                44435 non-null  float64       \n",
      " 17  spoken_languages       44435 non-null  object        \n",
      " 18  status                 44371 non-null  object        \n",
      " 19  tagline                20390 non-null  object        \n",
      " 20  title                  44435 non-null  object        \n",
      " 21  video                  44435 non-null  object        \n",
      " 22  vote_average           44435 non-null  float64       \n",
      " 23  vote_count             44435 non-null  float64       \n",
      " 24  year                   44435 non-null  Int64         \n",
      " 25  genre_list             44435 non-null  object        \n",
      "dtypes: Int64(1), datetime64[ns](1), float64(5), object(19)\n",
      "memory usage: 9.2+ MB\n"
     ]
    }
   ],
   "source": [
    "data_path = 'data/movies'\n",
    "metadata = pd.read_csv(os.path.join(data_path, 'movies_metadata.csv'), low_memory=False)\n",
    "\n",
    "def convert_metadata(metadata):\n",
    "    metadata['release_date'] = pd.to_datetime(metadata['release_date'], errors='coerce')\n",
    "    metadata['budget'] = pd.to_numeric(metadata['budget'], errors='coerce')\n",
    "    metadata['revenue'] = pd.to_numeric(metadata['revenue'], errors='coerce')\n",
    "    metadata['runtime'] = pd.to_numeric(metadata['runtime'], errors='coerce')\n",
    "    return metadata\n",
    "\n",
    "metadata = convert_metadata(metadata)\n",
    "\n",
    "metadata = metadata[pd.notnull(metadata['title'])]\n",
    "metadata = metadata[pd.notnull(metadata['budget'])]\n",
    "metadata = metadata[pd.notnull(metadata['revenue'])]\n",
    "metadata = metadata[pd.notnull(metadata['runtime'])]\n",
    "metadata = metadata[pd.notnull(metadata['release_date'])]\n",
    "metadata = metadata[pd.notnull(metadata['overview'])]\n",
    "\n",
    "metadata['year'] = pd.to_datetime(metadata['release_date'], errors='coerce').dt.year.astype('Int64')\n",
    "metadata['genre_list'] = metadata['genres'].apply(lambda x: [genre['name'] for genre in ast.literal_eval(x)])\n",
    "metadata.info()"
   ]
  },
  {
   "cell_type": "code",
   "execution_count": 3,
   "metadata": {},
   "outputs": [
    {
     "data": {
      "text/plain": [
       "array(['Action', 'Adventure', 'Animation', 'Comedy', 'Crime',\n",
       "       'Documentary', 'Drama', 'Family', 'Fantasy', 'Foreign', 'History',\n",
       "       'Horror', 'Music', 'Mystery', 'Romance', 'Science Fiction',\n",
       "       'TV Movie', 'Thriller', 'War', 'Western'], dtype=object)"
      ]
     },
     "execution_count": 3,
     "metadata": {},
     "output_type": "execute_result"
    }
   ],
   "source": [
    "mlb = MultiLabelBinarizer()\n",
    "labels = mlb.fit_transform(metadata['genre_list'])\n",
    "label_classes = mlb.classes_\n",
    "\n",
    "label_classes\n",
    "label_list = []\n",
    "for elem in label_classes:\n",
    "  label_list.append(elem)\n",
    "\n",
    "final_genres = MultiLabelBinarizer(classes = label_list) \n",
    "y = final_genres.fit_transform(metadata['genre_list'])\n",
    "final_genres.classes_"
   ]
  },
  {
   "cell_type": "code",
   "execution_count": 4,
   "metadata": {},
   "outputs": [
    {
     "name": "stdout",
     "output_type": "stream",
     "text": [
      "(35548,) (8887,) (35548, 20) (8887, 20)\n"
     ]
    }
   ],
   "source": [
    "X = metadata['title']\n",
    "X_train, X_val, y_train, y_val = train_test_split( X, y, test_size = 0.2, random_state = 42)\n",
    "\n",
    "print(X_train.shape, X_val.shape, y_train.shape, y_val.shape)\n",
    "\n",
    "vectorizer = TfidfVectorizer(stop_words = 'english', lowercase = True)\n",
    "\n",
    "X_train_vector = vectorizer.fit_transform(X_train)\n",
    "X_val_vector = vectorizer.transform(X_val)"
   ]
  },
  {
   "cell_type": "code",
   "execution_count": 5,
   "metadata": {},
   "outputs": [],
   "source": [
    "def pipeline(model, params = None, cv = 5):\n",
    "    if params == None:\n",
    "        model.fit(X_train_vector, y_train)\n",
    "        return(model, model.predict(X_train_vector), model.predict(X_val_vector))\n",
    "    else:\n",
    "        model_cv = GridSearchCV(estimator = model, param_grid = params, cv = cv)\n",
    "        model_cv.fit(X_train_vector, y_train)\n",
    "        model = model_cv.best_estimator_\n",
    "            \n",
    "        return(model, model.predict(X_train_vector), model.predict(X_val_vector), model_cv)"
   ]
  },
  {
   "cell_type": "code",
   "execution_count": 6,
   "metadata": {},
   "outputs": [
    {
     "name": "stdout",
     "output_type": "stream",
     "text": [
      "Classification Report - Training:\n",
      "                  precision    recall  f1-score   support\n",
      "\n",
      "         Action       0.97      0.88      0.92      5260\n",
      "      Adventure       0.98      0.87      0.92      2781\n",
      "      Animation       0.99      0.91      0.95      1530\n",
      "         Comedy       0.97      0.91      0.94     10254\n",
      "          Crime       0.96      0.83      0.89      3432\n",
      "    Documentary       0.99      0.89      0.94      3087\n",
      "          Drama       0.93      0.95      0.94     15994\n",
      "         Family       0.98      0.90      0.94      2216\n",
      "        Fantasy       0.98      0.86      0.92      1850\n",
      "        Foreign       0.99      0.82      0.90      1311\n",
      "        History       0.98      0.85      0.91      1090\n",
      "         Horror       0.97      0.88      0.93      3741\n",
      "          Music       0.99      0.85      0.92      1274\n",
      "        Mystery       0.98      0.81      0.89      1975\n",
      "        Romance       0.96      0.85      0.90      5287\n",
      "Science Fiction       0.98      0.88      0.93      2412\n",
      "       TV Movie       0.99      0.82      0.90       617\n",
      "       Thriller       0.95      0.86      0.90      6079\n",
      "            War       0.99      0.82      0.89      1033\n",
      "        Western       0.99      0.91      0.95       836\n",
      "\n",
      "      micro avg       0.96      0.89      0.92     72059\n",
      "      macro avg       0.98      0.87      0.92     72059\n",
      "   weighted avg       0.96      0.89      0.92     72059\n",
      "    samples avg       0.89      0.86      0.86     72059\n",
      "\n",
      "\n",
      "Classification Report - Validation:\n",
      "                  precision    recall  f1-score   support\n",
      "\n",
      "         Action       0.49      0.20      0.29      1301\n",
      "      Adventure       0.42      0.15      0.22       687\n",
      "      Animation       0.60      0.16      0.25       387\n",
      "         Comedy       0.51      0.29      0.37      2551\n",
      "          Crime       0.34      0.11      0.17       836\n",
      "    Documentary       0.31      0.05      0.09       790\n",
      "          Drama       0.54      0.65      0.59      4020\n",
      "         Family       0.51      0.17      0.26       514\n",
      "        Fantasy       0.44      0.13      0.21       440\n",
      "        Foreign       0.03      0.01      0.01       287\n",
      "        History       0.15      0.03      0.05       288\n",
      "         Horror       0.54      0.29      0.38       916\n",
      "          Music       0.29      0.05      0.09       314\n",
      "        Mystery       0.29      0.09      0.14       473\n",
      "        Romance       0.36      0.14      0.21      1384\n",
      "Science Fiction       0.54      0.17      0.26       609\n",
      "       TV Movie       0.27      0.05      0.09       133\n",
      "       Thriller       0.39      0.18      0.24      1502\n",
      "            War       0.26      0.05      0.09       277\n",
      "        Western       0.57      0.16      0.25       199\n",
      "\n",
      "      micro avg       0.49      0.28      0.36     17908\n",
      "      macro avg       0.39      0.16      0.21     17908\n",
      "   weighted avg       0.45      0.28      0.32     17908\n",
      "    samples avg       0.41      0.29      0.32     17908\n",
      "\n",
      "\n",
      "Accuracy - Training: 0.8445763474738381\n",
      "Accuracy - Validation: 0.12321368290761787\n"
     ]
    },
    {
     "name": "stderr",
     "output_type": "stream",
     "text": [
      "/opt/anaconda3/lib/python3.9/site-packages/sklearn/metrics/_classification.py:1318: UndefinedMetricWarning: Precision and F-score are ill-defined and being set to 0.0 in samples with no predicted labels. Use `zero_division` parameter to control this behavior.\n",
      "  _warn_prf(average, modifier, msg_start, len(result))\n",
      "/opt/anaconda3/lib/python3.9/site-packages/sklearn/metrics/_classification.py:1318: UndefinedMetricWarning: Recall and F-score are ill-defined and being set to 0.0 in samples with no true labels. Use `zero_division` parameter to control this behavior.\n",
      "  _warn_prf(average, modifier, msg_start, len(result))\n",
      "/opt/anaconda3/lib/python3.9/site-packages/sklearn/metrics/_classification.py:1318: UndefinedMetricWarning: Precision and F-score are ill-defined and being set to 0.0 in samples with no predicted labels. Use `zero_division` parameter to control this behavior.\n",
      "  _warn_prf(average, modifier, msg_start, len(result))\n",
      "/opt/anaconda3/lib/python3.9/site-packages/sklearn/metrics/_classification.py:1318: UndefinedMetricWarning: Recall and F-score are ill-defined and being set to 0.0 in samples with no true labels. Use `zero_division` parameter to control this behavior.\n",
      "  _warn_prf(average, modifier, msg_start, len(result))\n"
     ]
    }
   ],
   "source": [
    "rfc = RandomForestClassifier()\n",
    "model, train_preds, val_preds = pipeline(rfc)\n",
    "\n",
    "target_names = label_list\n",
    "training_report = classification_report(y_true=y_train, y_pred=train_preds, target_names=target_names)\n",
    "validation_report = classification_report(y_true=y_val, y_pred=val_preds, target_names=target_names)\n",
    "train_accuracy = accuracy_score(y_true=y_train, y_pred=train_preds)\n",
    "validation_accuracy = accuracy_score(y_true=y_val, y_pred=val_preds)\n",
    "print(\"Classification Report - Training:\\n\", training_report)\n",
    "print(\"\\nClassification Report - Validation:\\n\", validation_report)\n",
    "print(\"\\nAccuracy - Training:\", train_accuracy)\n",
    "print(\"Accuracy - Validation:\", validation_accuracy)"
   ]
  }
 ],
 "metadata": {
  "kernelspec": {
   "display_name": "base",
   "language": "python",
   "name": "python3"
  },
  "language_info": {
   "codemirror_mode": {
    "name": "ipython",
    "version": 3
   },
   "file_extension": ".py",
   "mimetype": "text/x-python",
   "name": "python",
   "nbconvert_exporter": "python",
   "pygments_lexer": "ipython3",
   "version": "3.9.12"
  },
  "orig_nbformat": 4
 },
 "nbformat": 4,
 "nbformat_minor": 2
}
